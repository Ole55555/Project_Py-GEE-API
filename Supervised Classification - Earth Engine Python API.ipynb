{
 "cells": [
  {
   "cell_type": "code",
   "execution_count": 1,
   "id": "e5997ee3",
   "metadata": {},
   "outputs": [
    {
     "name": "stdout",
     "output_type": "stream",
     "text": [
      "Defaulting to user installation because normal site-packages is not writeable\n",
      "Requirement already satisfied: geemap in c:\\users\\acer\\appdata\\roaming\\python\\python39\\site-packages (0.29.5)\n",
      "Requirement already satisfied: pyshp>=2.1.3 in c:\\users\\acer\\appdata\\roaming\\python\\python39\\site-packages (from geemap) (2.3.1)\n",
      "Requirement already satisfied: bqplot in c:\\users\\acer\\appdata\\roaming\\python\\python39\\site-packages (from geemap) (0.12.42)\n",
      "Requirement already satisfied: folium>=0.13.0 in c:\\users\\acer\\appdata\\roaming\\python\\python39\\site-packages (from geemap) (0.15.0)\n",
      "Requirement already satisfied: pyperclip in c:\\users\\acer\\appdata\\roaming\\python\\python39\\site-packages (from geemap) (1.8.2)\n",
      "Requirement already satisfied: geocoder in c:\\users\\acer\\appdata\\roaming\\python\\python39\\site-packages (from geemap) (1.38.1)\n",
      "Requirement already satisfied: plotly in c:\\programdata\\anaconda3\\lib\\site-packages (from geemap) (5.6.0)\n",
      "Requirement already satisfied: eerepr>=0.0.4 in c:\\users\\acer\\appdata\\roaming\\python\\python39\\site-packages (from geemap) (0.0.4)\n",
      "Requirement already satisfied: numpy in c:\\programdata\\anaconda3\\lib\\site-packages (from geemap) (1.21.5)\n",
      "Requirement already satisfied: python-box in c:\\users\\acer\\appdata\\roaming\\python\\python39\\site-packages (from geemap) (7.1.1)\n",
      "Requirement already satisfied: earthengine-api>=0.1.347 in c:\\users\\acer\\appdata\\roaming\\python\\python39\\site-packages (from geemap) (0.1.378)\n",
      "Requirement already satisfied: ipyevents in c:\\users\\acer\\appdata\\roaming\\python\\python39\\site-packages (from geemap) (2.0.2)\n",
      "Requirement already satisfied: scooby in c:\\users\\acer\\appdata\\roaming\\python\\python39\\site-packages (from geemap) (0.9.2)\n",
      "Requirement already satisfied: pandas in c:\\programdata\\anaconda3\\lib\\site-packages (from geemap) (1.4.2)\n",
      "Requirement already satisfied: matplotlib in c:\\programdata\\anaconda3\\lib\\site-packages (from geemap) (3.5.1)\n",
      "Requirement already satisfied: ipytree in c:\\users\\acer\\appdata\\roaming\\python\\python39\\site-packages (from geemap) (0.2.2)\n",
      "Requirement already satisfied: colour in c:\\users\\acer\\appdata\\roaming\\python\\python39\\site-packages (from geemap) (0.1.5)\n",
      "Requirement already satisfied: ipyfilechooser>=0.6.0 in c:\\users\\acer\\appdata\\roaming\\python\\python39\\site-packages (from geemap) (0.6.0)\n",
      "Requirement already satisfied: ipyleaflet>=0.17.0 in c:\\users\\acer\\appdata\\roaming\\python\\python39\\site-packages (from geemap) (0.17.4)\n",
      "Requirement already satisfied: google-cloud-storage in c:\\users\\acer\\appdata\\roaming\\python\\python39\\site-packages (from earthengine-api>=0.1.347->geemap) (2.13.0)\n",
      "Requirement already satisfied: httplib2<1dev,>=0.9.2 in c:\\users\\acer\\appdata\\roaming\\python\\python39\\site-packages (from earthengine-api>=0.1.347->geemap) (0.22.0)\n",
      "Requirement already satisfied: google-api-python-client>=1.12.1 in c:\\users\\acer\\appdata\\roaming\\python\\python39\\site-packages (from earthengine-api>=0.1.347->geemap) (2.107.0)\n",
      "Requirement already satisfied: google-auth>=1.4.1 in c:\\users\\acer\\appdata\\roaming\\python\\python39\\site-packages (from earthengine-api>=0.1.347->geemap) (2.23.4)\n",
      "Requirement already satisfied: google-auth-httplib2>=0.0.3 in c:\\users\\acer\\appdata\\roaming\\python\\python39\\site-packages (from earthengine-api>=0.1.347->geemap) (0.1.1)\n",
      "Requirement already satisfied: requests in c:\\programdata\\anaconda3\\lib\\site-packages (from earthengine-api>=0.1.347->geemap) (2.27.1)\n",
      "Requirement already satisfied: jinja2>=2.9 in c:\\programdata\\anaconda3\\lib\\site-packages (from folium>=0.13.0->geemap) (2.11.3)\n",
      "Requirement already satisfied: branca>=0.6.0 in c:\\users\\acer\\appdata\\roaming\\python\\python39\\site-packages (from folium>=0.13.0->geemap) (0.7.0)\n",
      "Requirement already satisfied: google-api-core!=2.0.*,!=2.1.*,!=2.2.*,!=2.3.0,<3.0.0.dev0,>=1.31.5 in c:\\users\\acer\\appdata\\roaming\\python\\python39\\site-packages (from google-api-python-client>=1.12.1->earthengine-api>=0.1.347->geemap) (2.14.0)\n",
      "Requirement already satisfied: uritemplate<5,>=3.0.1 in c:\\users\\acer\\appdata\\roaming\\python\\python39\\site-packages (from google-api-python-client>=1.12.1->earthengine-api>=0.1.347->geemap) (4.1.1)\n",
      "Requirement already satisfied: googleapis-common-protos<2.0.dev0,>=1.56.2 in c:\\users\\acer\\appdata\\roaming\\python\\python39\\site-packages (from google-api-core!=2.0.*,!=2.1.*,!=2.2.*,!=2.3.0,<3.0.0.dev0,>=1.31.5->google-api-python-client>=1.12.1->earthengine-api>=0.1.347->geemap) (1.61.0)\n",
      "Requirement already satisfied: protobuf!=3.20.0,!=3.20.1,!=4.21.0,!=4.21.1,!=4.21.2,!=4.21.3,!=4.21.4,!=4.21.5,<5.0.0.dev0,>=3.19.5 in c:\\users\\acer\\appdata\\roaming\\python\\python39\\site-packages (from google-api-core!=2.0.*,!=2.1.*,!=2.2.*,!=2.3.0,<3.0.0.dev0,>=1.31.5->google-api-python-client>=1.12.1->earthengine-api>=0.1.347->geemap) (4.25.0)\n",
      "Requirement already satisfied: pyasn1-modules>=0.2.1 in c:\\programdata\\anaconda3\\lib\\site-packages (from google-auth>=1.4.1->earthengine-api>=0.1.347->geemap) (0.2.8)\n",
      "Requirement already satisfied: cachetools<6.0,>=2.0.0 in c:\\programdata\\anaconda3\\lib\\site-packages (from google-auth>=1.4.1->earthengine-api>=0.1.347->geemap) (4.2.2)\n",
      "Requirement already satisfied: rsa<5,>=3.1.4 in c:\\programdata\\anaconda3\\lib\\site-packages (from google-auth>=1.4.1->earthengine-api>=0.1.347->geemap) (4.7.2)\n",
      "Requirement already satisfied: pyparsing!=3.0.0,!=3.0.1,!=3.0.2,!=3.0.3,<4,>=2.4.2 in c:\\programdata\\anaconda3\\lib\\site-packages (from httplib2<1dev,>=0.9.2->earthengine-api>=0.1.347->geemap) (3.0.4)\n",
      "Requirement already satisfied: ipywidgets in c:\\programdata\\anaconda3\\lib\\site-packages (from ipyfilechooser>=0.6.0->geemap) (7.6.5)\n",
      "Requirement already satisfied: traittypes<3,>=0.2.1 in c:\\users\\acer\\appdata\\roaming\\python\\python39\\site-packages (from ipyleaflet>=0.17.0->geemap) (0.2.1)\n",
      "Requirement already satisfied: xyzservices>=2021.8.1 in c:\\users\\acer\\appdata\\roaming\\python\\python39\\site-packages (from ipyleaflet>=0.17.0->geemap) (2023.10.1)\n",
      "Requirement already satisfied: traitlets>=4.3.1 in c:\\programdata\\anaconda3\\lib\\site-packages (from ipywidgets->ipyfilechooser>=0.6.0->geemap) (5.1.1)\n",
      "Requirement already satisfied: ipython>=4.0.0 in c:\\programdata\\anaconda3\\lib\\site-packages (from ipywidgets->ipyfilechooser>=0.6.0->geemap) (8.2.0)\n",
      "Requirement already satisfied: widgetsnbextension~=3.5.0 in c:\\programdata\\anaconda3\\lib\\site-packages (from ipywidgets->ipyfilechooser>=0.6.0->geemap) (3.5.2)\n",
      "Requirement already satisfied: jupyterlab-widgets>=1.0.0 in c:\\programdata\\anaconda3\\lib\\site-packages (from ipywidgets->ipyfilechooser>=0.6.0->geemap) (1.0.0)\n",
      "Requirement already satisfied: ipykernel>=4.5.1 in c:\\programdata\\anaconda3\\lib\\site-packages (from ipywidgets->ipyfilechooser>=0.6.0->geemap) (6.9.1)\n",
      "Requirement already satisfied: nbformat>=4.2.0 in c:\\programdata\\anaconda3\\lib\\site-packages (from ipywidgets->ipyfilechooser>=0.6.0->geemap) (5.3.0)\n",
      "Requirement already satisfied: ipython-genutils~=0.2.0 in c:\\programdata\\anaconda3\\lib\\site-packages (from ipywidgets->ipyfilechooser>=0.6.0->geemap) (0.2.0)\n",
      "Requirement already satisfied: matplotlib-inline<0.2.0,>=0.1.0 in c:\\programdata\\anaconda3\\lib\\site-packages (from ipykernel>=4.5.1->ipywidgets->ipyfilechooser>=0.6.0->geemap) (0.1.2)\n",
      "Requirement already satisfied: jupyter-client<8.0 in c:\\programdata\\anaconda3\\lib\\site-packages (from ipykernel>=4.5.1->ipywidgets->ipyfilechooser>=0.6.0->geemap) (6.1.12)\n",
      "Requirement already satisfied: tornado<7.0,>=4.2 in c:\\programdata\\anaconda3\\lib\\site-packages (from ipykernel>=4.5.1->ipywidgets->ipyfilechooser>=0.6.0->geemap) (6.1)\n",
      "Requirement already satisfied: nest-asyncio in c:\\programdata\\anaconda3\\lib\\site-packages (from ipykernel>=4.5.1->ipywidgets->ipyfilechooser>=0.6.0->geemap) (1.5.5)\n",
      "Requirement already satisfied: debugpy<2.0,>=1.0.0 in c:\\programdata\\anaconda3\\lib\\site-packages (from ipykernel>=4.5.1->ipywidgets->ipyfilechooser>=0.6.0->geemap) (1.5.1)\n",
      "Requirement already satisfied: backcall in c:\\programdata\\anaconda3\\lib\\site-packages (from ipython>=4.0.0->ipywidgets->ipyfilechooser>=0.6.0->geemap) (0.2.0)\n",
      "Requirement already satisfied: decorator in c:\\programdata\\anaconda3\\lib\\site-packages (from ipython>=4.0.0->ipywidgets->ipyfilechooser>=0.6.0->geemap) (5.1.1)\n",
      "Requirement already satisfied: jedi>=0.16 in c:\\programdata\\anaconda3\\lib\\site-packages (from ipython>=4.0.0->ipywidgets->ipyfilechooser>=0.6.0->geemap) (0.18.1)\n",
      "Requirement already satisfied: prompt-toolkit!=3.0.0,!=3.0.1,<3.1.0,>=2.0.0 in c:\\programdata\\anaconda3\\lib\\site-packages (from ipython>=4.0.0->ipywidgets->ipyfilechooser>=0.6.0->geemap) (3.0.20)\n",
      "Requirement already satisfied: pygments>=2.4.0 in c:\\programdata\\anaconda3\\lib\\site-packages (from ipython>=4.0.0->ipywidgets->ipyfilechooser>=0.6.0->geemap) (2.11.2)\n",
      "Requirement already satisfied: setuptools>=18.5 in c:\\programdata\\anaconda3\\lib\\site-packages (from ipython>=4.0.0->ipywidgets->ipyfilechooser>=0.6.0->geemap) (61.2.0)\n",
      "Requirement already satisfied: pickleshare in c:\\programdata\\anaconda3\\lib\\site-packages (from ipython>=4.0.0->ipywidgets->ipyfilechooser>=0.6.0->geemap) (0.7.5)\n",
      "Requirement already satisfied: colorama in c:\\programdata\\anaconda3\\lib\\site-packages (from ipython>=4.0.0->ipywidgets->ipyfilechooser>=0.6.0->geemap) (0.4.4)\n",
      "Requirement already satisfied: stack-data in c:\\programdata\\anaconda3\\lib\\site-packages (from ipython>=4.0.0->ipywidgets->ipyfilechooser>=0.6.0->geemap) (0.2.0)\n",
      "Requirement already satisfied: parso<0.9.0,>=0.8.0 in c:\\programdata\\anaconda3\\lib\\site-packages (from jedi>=0.16->ipython>=4.0.0->ipywidgets->ipyfilechooser>=0.6.0->geemap) (0.8.3)\n",
      "Requirement already satisfied: MarkupSafe>=0.23 in c:\\programdata\\anaconda3\\lib\\site-packages (from jinja2>=2.9->folium>=0.13.0->geemap) (2.0.1)\n",
      "Requirement already satisfied: python-dateutil>=2.1 in c:\\programdata\\anaconda3\\lib\\site-packages (from jupyter-client<8.0->ipykernel>=4.5.1->ipywidgets->ipyfilechooser>=0.6.0->geemap) (2.8.2)\n",
      "Requirement already satisfied: pyzmq>=13 in c:\\programdata\\anaconda3\\lib\\site-packages (from jupyter-client<8.0->ipykernel>=4.5.1->ipywidgets->ipyfilechooser>=0.6.0->geemap) (22.3.0)\n",
      "Requirement already satisfied: jupyter-core>=4.6.0 in c:\\programdata\\anaconda3\\lib\\site-packages (from jupyter-client<8.0->ipykernel>=4.5.1->ipywidgets->ipyfilechooser>=0.6.0->geemap) (4.9.2)\n",
      "Requirement already satisfied: pywin32>=1.0 in c:\\programdata\\anaconda3\\lib\\site-packages (from jupyter-core>=4.6.0->jupyter-client<8.0->ipykernel>=4.5.1->ipywidgets->ipyfilechooser>=0.6.0->geemap) (302)\n",
      "Requirement already satisfied: jsonschema>=2.6 in c:\\programdata\\anaconda3\\lib\\site-packages (from nbformat>=4.2.0->ipywidgets->ipyfilechooser>=0.6.0->geemap) (4.4.0)\n",
      "Requirement already satisfied: fastjsonschema in c:\\programdata\\anaconda3\\lib\\site-packages (from nbformat>=4.2.0->ipywidgets->ipyfilechooser>=0.6.0->geemap) (2.15.1)\n",
      "Requirement already satisfied: pyrsistent!=0.17.0,!=0.17.1,!=0.17.2,>=0.14.0 in c:\\programdata\\anaconda3\\lib\\site-packages (from jsonschema>=2.6->nbformat>=4.2.0->ipywidgets->ipyfilechooser>=0.6.0->geemap) (0.18.0)\n",
      "Requirement already satisfied: attrs>=17.4.0 in c:\\programdata\\anaconda3\\lib\\site-packages (from jsonschema>=2.6->nbformat>=4.2.0->ipywidgets->ipyfilechooser>=0.6.0->geemap) (21.4.0)\n",
      "Requirement already satisfied: wcwidth in c:\\programdata\\anaconda3\\lib\\site-packages (from prompt-toolkit!=3.0.0,!=3.0.1,<3.1.0,>=2.0.0->ipython>=4.0.0->ipywidgets->ipyfilechooser>=0.6.0->geemap) (0.2.5)\n",
      "Requirement already satisfied: pyasn1<0.5.0,>=0.4.6 in c:\\programdata\\anaconda3\\lib\\site-packages (from pyasn1-modules>=0.2.1->google-auth>=1.4.1->earthengine-api>=0.1.347->geemap) (0.4.8)\n",
      "Requirement already satisfied: six>=1.5 in c:\\programdata\\anaconda3\\lib\\site-packages (from python-dateutil>=2.1->jupyter-client<8.0->ipykernel>=4.5.1->ipywidgets->ipyfilechooser>=0.6.0->geemap) (1.16.0)\n",
      "Requirement already satisfied: charset-normalizer~=2.0.0 in c:\\programdata\\anaconda3\\lib\\site-packages (from requests->earthengine-api>=0.1.347->geemap) (2.0.4)\n",
      "Requirement already satisfied: idna<4,>=2.5 in c:\\programdata\\anaconda3\\lib\\site-packages (from requests->earthengine-api>=0.1.347->geemap) (3.3)\n",
      "Requirement already satisfied: certifi>=2017.4.17 in c:\\programdata\\anaconda3\\lib\\site-packages (from requests->earthengine-api>=0.1.347->geemap) (2021.10.8)\n",
      "Requirement already satisfied: urllib3<1.27,>=1.21.1 in c:\\programdata\\anaconda3\\lib\\site-packages (from requests->earthengine-api>=0.1.347->geemap) (1.26.9)\n",
      "Requirement already satisfied: notebook>=4.4.1 in c:\\programdata\\anaconda3\\lib\\site-packages (from widgetsnbextension~=3.5.0->ipywidgets->ipyfilechooser>=0.6.0->geemap) (6.4.8)\n",
      "Requirement already satisfied: nbconvert in c:\\programdata\\anaconda3\\lib\\site-packages (from notebook>=4.4.1->widgetsnbextension~=3.5.0->ipywidgets->ipyfilechooser>=0.6.0->geemap) (6.4.4)\n",
      "Requirement already satisfied: prometheus-client in c:\\programdata\\anaconda3\\lib\\site-packages (from notebook>=4.4.1->widgetsnbextension~=3.5.0->ipywidgets->ipyfilechooser>=0.6.0->geemap) (0.13.1)\n",
      "Requirement already satisfied: terminado>=0.8.3 in c:\\programdata\\anaconda3\\lib\\site-packages (from notebook>=4.4.1->widgetsnbextension~=3.5.0->ipywidgets->ipyfilechooser>=0.6.0->geemap) (0.13.1)\n",
      "Requirement already satisfied: argon2-cffi in c:\\programdata\\anaconda3\\lib\\site-packages (from notebook>=4.4.1->widgetsnbextension~=3.5.0->ipywidgets->ipyfilechooser>=0.6.0->geemap) (21.3.0)\n",
      "Requirement already satisfied: Send2Trash>=1.8.0 in c:\\programdata\\anaconda3\\lib\\site-packages (from notebook>=4.4.1->widgetsnbextension~=3.5.0->ipywidgets->ipyfilechooser>=0.6.0->geemap) (1.8.0)\n",
      "Requirement already satisfied: pywinpty>=1.1.0 in c:\\programdata\\anaconda3\\lib\\site-packages (from terminado>=0.8.3->notebook>=4.4.1->widgetsnbextension~=3.5.0->ipywidgets->ipyfilechooser>=0.6.0->geemap) (2.0.2)\n",
      "Requirement already satisfied: argon2-cffi-bindings in c:\\programdata\\anaconda3\\lib\\site-packages (from argon2-cffi->notebook>=4.4.1->widgetsnbextension~=3.5.0->ipywidgets->ipyfilechooser>=0.6.0->geemap) (21.2.0)\n",
      "Requirement already satisfied: cffi>=1.0.1 in c:\\programdata\\anaconda3\\lib\\site-packages (from argon2-cffi-bindings->argon2-cffi->notebook>=4.4.1->widgetsnbextension~=3.5.0->ipywidgets->ipyfilechooser>=0.6.0->geemap) (1.15.0)\n",
      "Requirement already satisfied: pycparser in c:\\programdata\\anaconda3\\lib\\site-packages (from cffi>=1.0.1->argon2-cffi-bindings->argon2-cffi->notebook>=4.4.1->widgetsnbextension~=3.5.0->ipywidgets->ipyfilechooser>=0.6.0->geemap) (2.21)\n",
      "Requirement already satisfied: pytz>=2020.1 in c:\\programdata\\anaconda3\\lib\\site-packages (from pandas->geemap) (2021.3)\n",
      "Requirement already satisfied: future in c:\\programdata\\anaconda3\\lib\\site-packages (from geocoder->geemap) (0.18.2)\n",
      "Requirement already satisfied: ratelim in c:\\users\\acer\\appdata\\roaming\\python\\python39\\site-packages (from geocoder->geemap) (0.1.6)\n",
      "Requirement already satisfied: click in c:\\programdata\\anaconda3\\lib\\site-packages (from geocoder->geemap) (8.0.4)\n",
      "Requirement already satisfied: google-cloud-core<3.0dev,>=2.3.0 in c:\\users\\acer\\appdata\\roaming\\python\\python39\\site-packages (from google-cloud-storage->earthengine-api>=0.1.347->geemap) (2.3.3)\n",
      "Requirement already satisfied: google-crc32c<2.0dev,>=1.0 in c:\\programdata\\anaconda3\\lib\\site-packages (from google-cloud-storage->earthengine-api>=0.1.347->geemap) (1.1.2)\n",
      "Requirement already satisfied: google-resumable-media>=2.6.0 in c:\\users\\acer\\appdata\\roaming\\python\\python39\\site-packages (from google-cloud-storage->earthengine-api>=0.1.347->geemap) (2.6.0)\n",
      "Requirement already satisfied: fonttools>=4.22.0 in c:\\programdata\\anaconda3\\lib\\site-packages (from matplotlib->geemap) (4.25.0)\n",
      "Requirement already satisfied: kiwisolver>=1.0.1 in c:\\programdata\\anaconda3\\lib\\site-packages (from matplotlib->geemap) (1.3.2)\n",
      "Requirement already satisfied: packaging>=20.0 in c:\\programdata\\anaconda3\\lib\\site-packages (from matplotlib->geemap) (21.3)\n",
      "Requirement already satisfied: cycler>=0.10 in c:\\programdata\\anaconda3\\lib\\site-packages (from matplotlib->geemap) (0.11.0)\n",
      "Requirement already satisfied: pillow>=6.2.0 in c:\\programdata\\anaconda3\\lib\\site-packages (from matplotlib->geemap) (9.0.1)\n",
      "Requirement already satisfied: testpath in c:\\programdata\\anaconda3\\lib\\site-packages (from nbconvert->notebook>=4.4.1->widgetsnbextension~=3.5.0->ipywidgets->ipyfilechooser>=0.6.0->geemap) (0.5.0)\n",
      "Requirement already satisfied: bleach in c:\\programdata\\anaconda3\\lib\\site-packages (from nbconvert->notebook>=4.4.1->widgetsnbextension~=3.5.0->ipywidgets->ipyfilechooser>=0.6.0->geemap) (4.1.0)\n",
      "Requirement already satisfied: beautifulsoup4 in c:\\programdata\\anaconda3\\lib\\site-packages (from nbconvert->notebook>=4.4.1->widgetsnbextension~=3.5.0->ipywidgets->ipyfilechooser>=0.6.0->geemap) (4.11.1)\n",
      "Requirement already satisfied: jupyterlab-pygments in c:\\programdata\\anaconda3\\lib\\site-packages (from nbconvert->notebook>=4.4.1->widgetsnbextension~=3.5.0->ipywidgets->ipyfilechooser>=0.6.0->geemap) (0.1.2)\n",
      "Requirement already satisfied: pandocfilters>=1.4.1 in c:\\programdata\\anaconda3\\lib\\site-packages (from nbconvert->notebook>=4.4.1->widgetsnbextension~=3.5.0->ipywidgets->ipyfilechooser>=0.6.0->geemap) (1.5.0)\n",
      "Requirement already satisfied: nbclient<0.6.0,>=0.5.0 in c:\\programdata\\anaconda3\\lib\\site-packages (from nbconvert->notebook>=4.4.1->widgetsnbextension~=3.5.0->ipywidgets->ipyfilechooser>=0.6.0->geemap) (0.5.13)\n",
      "Requirement already satisfied: entrypoints>=0.2.2 in c:\\programdata\\anaconda3\\lib\\site-packages (from nbconvert->notebook>=4.4.1->widgetsnbextension~=3.5.0->ipywidgets->ipyfilechooser>=0.6.0->geemap) (0.4)\n",
      "Requirement already satisfied: defusedxml in c:\\programdata\\anaconda3\\lib\\site-packages (from nbconvert->notebook>=4.4.1->widgetsnbextension~=3.5.0->ipywidgets->ipyfilechooser>=0.6.0->geemap) (0.7.1)\n",
      "Requirement already satisfied: mistune<2,>=0.8.1 in c:\\programdata\\anaconda3\\lib\\site-packages (from nbconvert->notebook>=4.4.1->widgetsnbextension~=3.5.0->ipywidgets->ipyfilechooser>=0.6.0->geemap) (0.8.4)\n",
      "Requirement already satisfied: soupsieve>1.2 in c:\\programdata\\anaconda3\\lib\\site-packages (from beautifulsoup4->nbconvert->notebook>=4.4.1->widgetsnbextension~=3.5.0->ipywidgets->ipyfilechooser>=0.6.0->geemap) (2.3.1)\n",
      "Requirement already satisfied: webencodings in c:\\programdata\\anaconda3\\lib\\site-packages (from bleach->nbconvert->notebook>=4.4.1->widgetsnbextension~=3.5.0->ipywidgets->ipyfilechooser>=0.6.0->geemap) (0.5.1)\n",
      "Requirement already satisfied: tenacity>=6.2.0 in c:\\programdata\\anaconda3\\lib\\site-packages (from plotly->geemap) (8.0.1)\n",
      "Requirement already satisfied: executing in c:\\programdata\\anaconda3\\lib\\site-packages (from stack-data->ipython>=4.0.0->ipywidgets->ipyfilechooser>=0.6.0->geemap) (0.8.3)\n",
      "Requirement already satisfied: asttokens in c:\\programdata\\anaconda3\\lib\\site-packages (from stack-data->ipython>=4.0.0->ipywidgets->ipyfilechooser>=0.6.0->geemap) (2.0.5)\n",
      "Requirement already satisfied: pure-eval in c:\\programdata\\anaconda3\\lib\\site-packages (from stack-data->ipython>=4.0.0->ipywidgets->ipyfilechooser>=0.6.0->geemap) (0.2.2)\n"
     ]
    }
   ],
   "source": [
    "#  !pip install geemap"
   ]
  },
  {
   "cell_type": "markdown",
   "id": "cec97b84",
   "metadata": {},
   "source": [
    "# Machine Learning with Earth Engine - Supervised Classification"
   ]
  },
  {
   "cell_type": "markdown",
   "id": "4f441e37",
   "metadata": {},
   "source": [
    "### ขั้นตอนการจำแนกประเภทที่ใช้การควบคุม (Supervised classification algorithms) ที่มีให้ใช้ใน Google Earth Engine\n",
    "\n",
    "Source: https://developers.google.com/earth-engine/classification\n",
    "\n",
    "แพ็คเกจ Classifier ใน Earth Engine ใช้ในการจำแนกประเภทโดยใช้วิธีการควบคุมของอัลกอริทึมแบบดั้งเดิม อัลกอริทึมที่สามารถใช้ในการจำแนกประเภทรวมถึง CART, RandomForest, NaiveBayes, และ SVM ขั้นตอนการทำงานทั่วไปสำหรับการจำแนกประเภทคือ:\n",
    "\n",
    "รวบรวมข้อมูลการ training dataset โดยเก็บฟีเจอร์ที่มีคุณสมบัติเก็บป้ายชื่อคลาสที่รู้จักและคุณสมบัติที่เก็บค่าตัวเลขสำหรับตัวทำนายสร้างอ็อบเจ็กต์ของคลาสิฟายเออร์ (classifier) และตั้งค่าพารามิเตอร์ตามที่จำเป็นฝึกคลาสิฟายเออร์โดยใช้ข้อมูลการฝึกอบรมจำแนกภาพหรือคอลเลคชั่นของคุณสมบัติประมาณความผิดพลาดในการจำแนกด้วยข้อมูลทดสอบอิสระข้อมูลการฝึกอบรมเป็น FeatureCollection ที่มีคุณสมบัติเก็บป้ายชื่อคลาสและคุณสมบัติที่เก็บตัวแปรทำนาย ป้ายชื่อคลาสควรเป็นเลขจำนวนเต็มติดต่อกันเริ่มต้นที่ 0 หากจำเป็นต้องใช้ remap() เพื่อแปลงค่าคลาสให้เป็นเลขจำนวนเต็มติดต่อกัน ตัวแปรทำนายควรเป็นตัวเลข"
   ]
  },
  {
   "cell_type": "markdown",
   "id": "181458af",
   "metadata": {},
   "source": [
    "![](https://i.imgur.com/vROsEiq.png)"
   ]
  },
  {
   "cell_type": "markdown",
   "id": "eac919e7",
   "metadata": {},
   "source": [
    "## บทแนะนำขั้นตอนทีละขั้นตอน\n",
    "\n",
    "### Import libraries"
   ]
  },
  {
   "cell_type": "code",
   "execution_count": 2,
   "id": "e2d4e56c",
   "metadata": {},
   "outputs": [],
   "source": [
    "import ee\n",
    "import geemap"
   ]
  },
  {
   "cell_type": "markdown",
   "id": "0e1d9510",
   "metadata": {},
   "source": [
    "### สร้างแผนที่โดยใช้ไลบรารี geemap และแสดงผลแผนที่"
   ]
  },
  {
   "cell_type": "code",
   "execution_count": 3,
   "id": "f1668eac",
   "metadata": {},
   "outputs": [
    {
     "data": {
      "text/html": [
       "\n",
       "            <style>\n",
       "                .geemap-dark {\n",
       "                    --jp-widgets-color: white;\n",
       "                    --jp-widgets-label-color: white;\n",
       "                    --jp-ui-font-color1: white;\n",
       "                    --jp-layout-color2: #454545;\n",
       "                    background-color: #383838;\n",
       "                }\n",
       "                    \n",
       "                .geemap-dark .jupyter-button {\n",
       "                    --jp-layout-color3: #383838;\n",
       "                }\n",
       "                \n",
       "                .geemap-colab {\n",
       "                    background-color: var(--colab-primary-surface-color, white);\n",
       "                }\n",
       "                    \n",
       "                .geemap-colab .jupyter-button {\n",
       "                    --jp-layout-color3: var(--colab-primary-surface-color, white);\n",
       "                }\n",
       "            </style>\n",
       "            "
      ],
      "text/plain": [
       "<IPython.core.display.HTML object>"
      ]
     },
     "metadata": {},
     "output_type": "display_data"
    },
    {
     "data": {
      "application/vnd.jupyter.widget-view+json": {
       "model_id": "b2ed992f57474e1ebcf6d1252db81b34",
       "version_major": 2,
       "version_minor": 0
      },
      "text/plain": [
       "Map(center=[0, 0], controls=(WidgetControl(options=['position', 'transparent_bg'], widget=SearchDataGUI(childr…"
      ]
     },
     "metadata": {},
     "output_type": "display_data"
    }
   ],
   "source": [
    "Map = geemap.Map()\n",
    "Map"
   ]
  },
  {
   "cell_type": "markdown",
   "id": "0f8d6dc5",
   "metadata": {},
   "source": [
    "### เพิ่มข้อมูลลงในแผนที่"
   ]
  },
  {
   "cell_type": "code",
   "execution_count": 4,
   "id": "39dffeea",
   "metadata": {},
   "outputs": [
    {
     "data": {
      "text/html": [
       "\n",
       "            <style>\n",
       "                .geemap-dark {\n",
       "                    --jp-widgets-color: white;\n",
       "                    --jp-widgets-label-color: white;\n",
       "                    --jp-ui-font-color1: white;\n",
       "                    --jp-layout-color2: #454545;\n",
       "                    background-color: #383838;\n",
       "                }\n",
       "                    \n",
       "                .geemap-dark .jupyter-button {\n",
       "                    --jp-layout-color3: #383838;\n",
       "                }\n",
       "                \n",
       "                .geemap-colab {\n",
       "                    background-color: var(--colab-primary-surface-color, white);\n",
       "                }\n",
       "                    \n",
       "                .geemap-colab .jupyter-button {\n",
       "                    --jp-layout-color3: var(--colab-primary-surface-color, white);\n",
       "                }\n",
       "            </style>\n",
       "            "
      ],
      "text/plain": [
       "<IPython.core.display.HTML object>"
      ]
     },
     "metadata": {},
     "output_type": "display_data"
    }
   ],
   "source": [
    "# กำหนดจุดที่ตั้งข้อมูลแผนที่พื้นที่ศึกษาจาก FAO กรองด้วยการใช้พิกัดภูมิศาสตร์ \n",
    "point = ee.Geometry.Point([100.25181617367595, 16.819711283484004])  # อำเภอเมืองพิษณุโลก \n",
    "\n",
    "# โหลดข้อมูลสำหรับกรองพื้นที่อำเภอเมืองพิษณุโลกด้วยจุดพิกัด point\n",
    "Mueang = ee.FeatureCollection('FAO/GAUL/2015/level2').filterBounds(point)\n",
    "                    \n",
    "# โหลดข้อมูลภาพถ่ายดาวเทียม Landsat-8 และกรองข้อมูลภาพ\n",
    "image = (\n",
    "    ee.ImageCollection('LANDSAT/LC08/C01/T1_SR')\n",
    "    .filterBounds(point)\n",
    "    .filterDate('2020-08-01', '2020-12-31')\n",
    "    .sort('CLOUD_COVER')\n",
    "    .first()\n",
    "    .select('B[1-7]')\n",
    ")\n",
    "\n",
    "# ตัดขอบเขตพื้นที่ศึกษาของภาพถ่ายดาวเทียม\n",
    "image_M = image.clip(Mueang)\n",
    "\n",
    "# สร้างแผนที่โฟกัสโดยกำหนดพิกัดศูนย์กลางและระดับการซูม\n",
    "Map.centerObject(Mueang, 8)\n",
    "\n",
    "# เพิ่มชั้นข้อมูล การผสมสีข้อมูลจากดาวเทียม (Band Combinations) ลงในแผนที่\n",
    "# ลักษณะของสิ่งปกคลุมดินจะปรากฏคล้ายกับการมองเห็นของมนุษย์ พืชหรือต้นไม้ที่มีสุขภาพดีจะมีสีเขียว ถนนเป็นสีเทา\n",
    "Map.addLayer(image, {'bands': ['B4', 'B3', 'B2'],'min':0, 'max': 3000}, 'ภาพผสมสีธรรมชาติ (Red, Green, Blue)')\n",
    "\n",
    "# การผสมรูปแบบนี้มีความใกล้เคียงกับการผสมสีธรรมชาติ แตกต่างที่เมืองจะสามารถแยกได้ชัดเจนมากกว่า\n",
    "Map.addLayer(image, {'bands': ['B7', 'B6', 'B4'],'min':0, 'max': 3000}, 'ความเป็นเมือง (SWIR2, SWIR1, Red)')\n",
    "\n",
    "# รูปแบบนี้ได้รับความนิยมอย่างมาก เพื่อศึกษาเกี่ยวกับพืชพรรณโดยเฉพาะ เนื่องจากพืชจะปรากฏเป็นสีแดงแยกกับวัตถุชนิดอื่นๆ อย่างชัดเจน\n",
    "Map.addLayer(image, {'bands': ['B5', 'B4', 'B3'],'min':0, 'max': 3000}, 'สีอินฟราเรด (NIR, Red, Green)') \n",
    "\n",
    "# เป็นเทคนิคที่ใช้กันอย่างแพร่หลายในการวิเคราะห์ภาพดาวเทียมเพื่อทำการแยกแยะแหล่งน้ำและพื้นที่บนบก\n",
    "Map.addLayer(image, {'bands': ['B5', 'B6', 'B4'],'min':0, 'max': 3000}, 'แยกแยะระหว่างพื้นที่บนบกและน้ำ(NIR, SWIR1, Red)') \n",
    "\n",
    "# การผสมในรูปแบบนี้มีประโยชน์ในการตรวจสอบพืชผลการเกษตร พืชที่แข็งแรงสมบูรณ์จะแสดงผลสีเขียวสดใส ส่วนที่รกล้างว่างเปล่าจะแสดงเป็นสีน้ำตาลหรือสีม่วง\n",
    "Map.addLayer(image, {'bands': ['B6', 'B5', 'B2'],'min':0, 'max': 3000}, 'เกษตรกรรม (SWIR1, NIR, Blue)') \n",
    "\n",
    "# เพิ่มแผนที่ควบคุมเพื่อให้ผู้ใช้สามารถเปลี่ยนแปลงและเลือกชั้นข้อมูลได้\n",
    "Map.addLayerControl()"
   ]
  },
  {
   "cell_type": "markdown",
   "id": "d645e5d1",
   "metadata": {},
   "source": [
    "### ตรวจสอบคุณสมบัติของภาพ"
   ]
  },
  {
   "cell_type": "code",
   "execution_count": 5,
   "id": "0121dc04",
   "metadata": {},
   "outputs": [
    {
     "data": {
      "text/html": [
       "\n",
       "            <style>\n",
       "                .geemap-dark {\n",
       "                    --jp-widgets-color: white;\n",
       "                    --jp-widgets-label-color: white;\n",
       "                    --jp-ui-font-color1: white;\n",
       "                    --jp-layout-color2: #454545;\n",
       "                    background-color: #383838;\n",
       "                }\n",
       "                    \n",
       "                .geemap-dark .jupyter-button {\n",
       "                    --jp-layout-color3: #383838;\n",
       "                }\n",
       "                \n",
       "                .geemap-colab {\n",
       "                    background-color: var(--colab-primary-surface-color, white);\n",
       "                }\n",
       "                    \n",
       "                .geemap-colab .jupyter-button {\n",
       "                    --jp-layout-color3: var(--colab-primary-surface-color, white);\n",
       "                }\n",
       "            </style>\n",
       "            "
      ],
      "text/plain": [
       "<IPython.core.display.HTML object>"
      ]
     },
     "metadata": {},
     "output_type": "display_data"
    },
    {
     "data": {
      "text/plain": [
       "'2020-12-10'"
      ]
     },
     "execution_count": 5,
     "metadata": {},
     "output_type": "execute_result"
    }
   ],
   "source": [
    "ee.Date(image.get('system:time_start')).format('YYYY-MM-dd').getInfo()"
   ]
  },
  {
   "cell_type": "code",
   "execution_count": 6,
   "id": "5e302cdc",
   "metadata": {},
   "outputs": [
    {
     "data": {
      "text/html": [
       "\n",
       "            <style>\n",
       "                .geemap-dark {\n",
       "                    --jp-widgets-color: white;\n",
       "                    --jp-widgets-label-color: white;\n",
       "                    --jp-ui-font-color1: white;\n",
       "                    --jp-layout-color2: #454545;\n",
       "                    background-color: #383838;\n",
       "                }\n",
       "                    \n",
       "                .geemap-dark .jupyter-button {\n",
       "                    --jp-layout-color3: #383838;\n",
       "                }\n",
       "                \n",
       "                .geemap-colab {\n",
       "                    background-color: var(--colab-primary-surface-color, white);\n",
       "                }\n",
       "                    \n",
       "                .geemap-colab .jupyter-button {\n",
       "                    --jp-layout-color3: var(--colab-primary-surface-color, white);\n",
       "                }\n",
       "            </style>\n",
       "            "
      ],
      "text/plain": [
       "<IPython.core.display.HTML object>"
      ]
     },
     "metadata": {},
     "output_type": "display_data"
    },
    {
     "data": {
      "text/plain": [
       "0.02"
      ]
     },
     "execution_count": 6,
     "metadata": {},
     "output_type": "execute_result"
    }
   ],
   "source": [
    "image.get('CLOUD_COVER').getInfo()"
   ]
  },
  {
   "cell_type": "markdown",
   "id": "f20d13de",
   "metadata": {},
   "source": [
    "### สร้างชุดข้อมูลสำหรับจุด training dataset\n",
    "\n",
    "มีวิธีหลายวิธีที่คุณสามารถสร้างพื้นที่เพื่อสร้างชุดข้อมูลการสุ่มจุด training area ได้\n",
    "\n",
    "- วาดรูปทรง (เช่น สี่เหลี่ยม) บนแผนที่และใช้ region = Map.user_roi\n",
    "- กำหนดรูปทรงเรขาคณิต เช่น region = ee.Geometry.Rectangle([100.25181617367595,16.819711283484004,100.25472150345898,16.8008333638423])\n",
    "- สร้างโซน buffer รอบจุด เช่น region = ee.Geometry.Point([100.25181617367595,16.819711283484004]).buffer(7000)\n",
    "\n",
    "หากไม่กำหนดพื้นที่ มันจะใช้รอบขอบภาพเป็นค่าเริ่มต้นโดยอัตโนมัติ"
   ]
  },
  {
   "cell_type": "code",
   "execution_count": null,
   "id": "40c9aa2e",
   "metadata": {},
   "outputs": [],
   "source": [
    "# region = Map.user_roi\n",
    "# region = ee.Geometry.Rectangle([-122.6003, 37.4831, -121.8036, 37.8288])\n",
    "# region = ee.Geometry.Point([-122.4439, 37.7538]).buffer(10000)"
   ]
  },
  {
   "cell_type": "markdown",
   "id": "3221b23d",
   "metadata": {},
   "source": [
    "ในตัวอย่างนี้ เราจะใช้ [ESA WorldCover 10m v100] (https://developers.google.com/earth-engine/datasets/catalog/ESA_WorldCover_v100) เพื่อสร้างชุดข้อมูลป้ายกำกับสำหรับการ training dataset\n",
    "\n",
    "\n",
    "![](https://data.apps.fao.org/map/wmts/wmts?request=GetLegendGraphic&VERSION=1.0.0&layer=ESA/WorldCover/v100&FORMAT=image/png&WIDTH=20&HEIGHT=20&STRICT=false&sld=https://storage.googleapis.com/gee-wmts-review/catalog/CGIAR/SRTM90_V4/styles/default.xml?ignoreCache=1)"
   ]
  },
  {
   "cell_type": "code",
   "execution_count": 7,
   "id": "b2b63549",
   "metadata": {},
   "outputs": [
    {
     "data": {
      "text/html": [
       "\n",
       "            <style>\n",
       "                .geemap-dark {\n",
       "                    --jp-widgets-color: white;\n",
       "                    --jp-widgets-label-color: white;\n",
       "                    --jp-ui-font-color1: white;\n",
       "                    --jp-layout-color2: #454545;\n",
       "                    background-color: #383838;\n",
       "                }\n",
       "                    \n",
       "                .geemap-dark .jupyter-button {\n",
       "                    --jp-layout-color3: #383838;\n",
       "                }\n",
       "                \n",
       "                .geemap-colab {\n",
       "                    background-color: var(--colab-primary-surface-color, white);\n",
       "                }\n",
       "                    \n",
       "                .geemap-colab .jupyter-button {\n",
       "                    --jp-layout-color3: var(--colab-primary-surface-color, white);\n",
       "                }\n",
       "            </style>\n",
       "            "
      ],
      "text/plain": [
       "<IPython.core.display.HTML object>"
      ]
     },
     "metadata": {},
     "output_type": "display_data"
    },
    {
     "data": {
      "application/vnd.jupyter.widget-view+json": {
       "model_id": "26de2482c8974e9495524de483fa1ca9",
       "version_major": 2,
       "version_minor": 0
      },
      "text/plain": [
       "Map(center=[0, 0], controls=(WidgetControl(options=['position', 'transparent_bg'], widget=SearchDataGUI(childr…"
      ]
     },
     "metadata": {},
     "output_type": "display_data"
    }
   ],
   "source": [
    "# โหลดข้อมูล Land Cover จาก European Space Agency (ESA)\n",
    "dataset = ee.ImageCollection('ESA/WorldCover/v100').first().clip(image.geometry())\n",
    "\n",
    "# กำหนดการแสดงผลในแบนด์ของข้อมูล\n",
    "visualization = {\n",
    "    'bands': ['Map'],\n",
    "}\n",
    "\n",
    "# สร้างแผนที่ geemap\n",
    "Map = geemap.Map()\n",
    "\n",
    "# เพิ่มข้อมูลแผนที่ Landcover ลงในแผนที่\n",
    "Map.add_layer(dataset, visualization, 'Landcover')\n",
    "\n",
    "# เพิ่มการควบคุมชั้นข้อมูล\n",
    "Map.addLayerControl()\n",
    "\n",
    "# แสดงแผนที่\n",
    "Map"
   ]
  },
  {
   "cell_type": "code",
   "execution_count": 8,
   "id": "81583392",
   "metadata": {},
   "outputs": [
    {
     "data": {
      "text/html": [
       "\n",
       "            <style>\n",
       "                .geemap-dark {\n",
       "                    --jp-widgets-color: white;\n",
       "                    --jp-widgets-label-color: white;\n",
       "                    --jp-ui-font-color1: white;\n",
       "                    --jp-layout-color2: #454545;\n",
       "                    background-color: #383838;\n",
       "                }\n",
       "                    \n",
       "                .geemap-dark .jupyter-button {\n",
       "                    --jp-layout-color3: #383838;\n",
       "                }\n",
       "                \n",
       "                .geemap-colab {\n",
       "                    background-color: var(--colab-primary-surface-color, white);\n",
       "                }\n",
       "                    \n",
       "                .geemap-colab .jupyter-button {\n",
       "                    --jp-layout-color3: var(--colab-primary-surface-color, white);\n",
       "                }\n",
       "            </style>\n",
       "            "
      ],
      "text/plain": [
       "<IPython.core.display.HTML object>"
      ]
     },
     "metadata": {},
     "output_type": "display_data"
    }
   ],
   "source": [
    "# ข้อมูลสำหรับจุด training dataset บนภาพ\n",
    "points = dataset.sample(\n",
    "    **{\n",
    "        'region': image.geometry(),\n",
    "        'scale': 30,\n",
    "        'numPixels': 5000,\n",
    "        'seed': 0,\n",
    "        'geometries': True,  \n",
    "    }\n",
    ")\n",
    "\n",
    "# เพิ่มชั้นข้อมูลจุด training dataset ลงในแผนที่\n",
    "Map.addLayer(points, {}, 'training')"
   ]
  },
  {
   "cell_type": "code",
   "execution_count": 9,
   "id": "476f9f56",
   "metadata": {},
   "outputs": [
    {
     "data": {
      "text/html": [
       "\n",
       "            <style>\n",
       "                .geemap-dark {\n",
       "                    --jp-widgets-color: white;\n",
       "                    --jp-widgets-label-color: white;\n",
       "                    --jp-ui-font-color1: white;\n",
       "                    --jp-layout-color2: #454545;\n",
       "                    background-color: #383838;\n",
       "                }\n",
       "                    \n",
       "                .geemap-dark .jupyter-button {\n",
       "                    --jp-layout-color3: #383838;\n",
       "                }\n",
       "                \n",
       "                .geemap-colab {\n",
       "                    background-color: var(--colab-primary-surface-color, white);\n",
       "                }\n",
       "                    \n",
       "                .geemap-colab .jupyter-button {\n",
       "                    --jp-layout-color3: var(--colab-primary-surface-color, white);\n",
       "                }\n",
       "            </style>\n",
       "            "
      ],
      "text/plain": [
       "<IPython.core.display.HTML object>"
      ]
     },
     "metadata": {},
     "output_type": "display_data"
    },
    {
     "name": "stdout",
     "output_type": "stream",
     "text": [
      "5000\n"
     ]
    }
   ],
   "source": [
    "# ประมวลผลและพิมพ์จำนวนข้อมูลทั้งหมดในจุด training dataset ที่ถูกสร้างขึ้น \n",
    "print(points.size().getInfo())"
   ]
  },
  {
   "cell_type": "code",
   "execution_count": 10,
   "id": "20450f88",
   "metadata": {},
   "outputs": [
    {
     "data": {
      "text/html": [
       "\n",
       "            <style>\n",
       "                .geemap-dark {\n",
       "                    --jp-widgets-color: white;\n",
       "                    --jp-widgets-label-color: white;\n",
       "                    --jp-ui-font-color1: white;\n",
       "                    --jp-layout-color2: #454545;\n",
       "                    background-color: #383838;\n",
       "                }\n",
       "                    \n",
       "                .geemap-dark .jupyter-button {\n",
       "                    --jp-layout-color3: #383838;\n",
       "                }\n",
       "                \n",
       "                .geemap-colab {\n",
       "                    background-color: var(--colab-primary-surface-color, white);\n",
       "                }\n",
       "                    \n",
       "                .geemap-colab .jupyter-button {\n",
       "                    --jp-layout-color3: var(--colab-primary-surface-color, white);\n",
       "                }\n",
       "            </style>\n",
       "            "
      ],
      "text/plain": [
       "<IPython.core.display.HTML object>"
      ]
     },
     "metadata": {},
     "output_type": "display_data"
    },
    {
     "name": "stdout",
     "output_type": "stream",
     "text": [
      "{'type': 'Feature', 'geometry': {'type': 'Point', 'coordinates': [100.14835836961247, 17.522350569187868]}, 'id': '0', 'properties': {'Map': 40}}\n"
     ]
    }
   ],
   "source": [
    "# พิมพ์ข้อมูลของจุดแรกใน training dataset \n",
    "print(points.first().getInfo())"
   ]
  },
  {
   "cell_type": "markdown",
   "id": "fe1d5eba",
   "metadata": {},
   "source": [
    "### Train the classifier \n",
    "โดยใช้โมเดลแบบตัวแบ่งประเภทแบบ CART (Classification and Regression Trees) ในการฝึกโมเดล โดยใช้ข้อมูลจากขั้นตอนที่แล้วและกำหนดแถบที่ใช้ในการคาดการณ์ เช่นกันโดยใช้ชุดแถบที่กำหนดไว้ก่อนแล้วเป็นพารามิเตอร์ในการฝึกโมเดล โดยการใช้ข้อมูลที่สุ่มมาเพื่อฝึกโมเดลในการทำนายป้ายชื่อของพื้นที่ปกคลุมดิน"
   ]
  },
  {
   "cell_type": "code",
   "execution_count": 11,
   "id": "0f85dac1",
   "metadata": {},
   "outputs": [
    {
     "data": {
      "text/html": [
       "\n",
       "            <style>\n",
       "                .geemap-dark {\n",
       "                    --jp-widgets-color: white;\n",
       "                    --jp-widgets-label-color: white;\n",
       "                    --jp-ui-font-color1: white;\n",
       "                    --jp-layout-color2: #454545;\n",
       "                    background-color: #383838;\n",
       "                }\n",
       "                    \n",
       "                .geemap-dark .jupyter-button {\n",
       "                    --jp-layout-color3: #383838;\n",
       "                }\n",
       "                \n",
       "                .geemap-colab {\n",
       "                    background-color: var(--colab-primary-surface-color, white);\n",
       "                }\n",
       "                    \n",
       "                .geemap-colab .jupyter-button {\n",
       "                    --jp-layout-color3: var(--colab-primary-surface-color, white);\n",
       "                }\n",
       "            </style>\n",
       "            "
      ],
      "text/plain": [
       "<IPython.core.display.HTML object>"
      ]
     },
     "metadata": {},
     "output_type": "display_data"
    }
   ],
   "source": [
    "# ใช้พื้นที่ของแถบดังกล่าวสำหรับการคาดการณ์\n",
    "bands = ['B1', 'B2', 'B3', 'B4', 'B5', 'B6', 'B7']\n",
    "\n",
    "# คุณสมบัตินี้ของตารางเก็บป้ายชื่อของพื้นที่ปกคลุมดิน\n",
    "label = 'Map'\n",
    "\n",
    "# ซ้อนทับจุดบนภาพเพื่อทำการ training dataset\n",
    "training = image.select(bands).sampleRegions(\n",
    "    **{'collection': points, 'properties': [label], 'scale': 30}\n",
    ")\n",
    "\n",
    "# training ตัวแบ่งประเภทแบบ CART ด้วยพารามิเตอร์เริ่มต้น\n",
    "trained = ee.Classifier.smileCart().train(training, label, bands)"
   ]
  },
  {
   "cell_type": "code",
   "execution_count": 12,
   "id": "ad297c22",
   "metadata": {},
   "outputs": [
    {
     "data": {
      "text/html": [
       "\n",
       "            <style>\n",
       "                .geemap-dark {\n",
       "                    --jp-widgets-color: white;\n",
       "                    --jp-widgets-label-color: white;\n",
       "                    --jp-ui-font-color1: white;\n",
       "                    --jp-layout-color2: #454545;\n",
       "                    background-color: #383838;\n",
       "                }\n",
       "                    \n",
       "                .geemap-dark .jupyter-button {\n",
       "                    --jp-layout-color3: #383838;\n",
       "                }\n",
       "                \n",
       "                .geemap-colab {\n",
       "                    background-color: var(--colab-primary-surface-color, white);\n",
       "                }\n",
       "                    \n",
       "                .geemap-colab .jupyter-button {\n",
       "                    --jp-layout-color3: var(--colab-primary-surface-color, white);\n",
       "                }\n",
       "            </style>\n",
       "            "
      ],
      "text/plain": [
       "<IPython.core.display.HTML object>"
      ]
     },
     "metadata": {},
     "output_type": "display_data"
    },
    {
     "name": "stdout",
     "output_type": "stream",
     "text": [
      "{'type': 'Feature', 'geometry': None, 'id': '0_0', 'properties': {'B1': 692, 'B2': 784, 'B3': 1062, 'B4': 1384, 'B5': 2353, 'B6': 3757, 'B7': 3231, 'Map': 40}}\n"
     ]
    }
   ],
   "source": [
    "# ใช้เพื่อแสดงข้อมูลของจุดแรกในชุดข้อมูลการฝึกอบรมเมื่อมีการดำเนินการ getInfo() บนข้อมูลนั้น\n",
    "print(training.first().getInfo())"
   ]
  },
  {
   "cell_type": "markdown",
   "id": "4b0186c4",
   "metadata": {},
   "source": [
    "### จำแนกภาพ"
   ]
  },
  {
   "cell_type": "code",
   "execution_count": 20,
   "id": "b9aad79f",
   "metadata": {},
   "outputs": [
    {
     "data": {
      "text/html": [
       "\n",
       "            <style>\n",
       "                .geemap-dark {\n",
       "                    --jp-widgets-color: white;\n",
       "                    --jp-widgets-label-color: white;\n",
       "                    --jp-ui-font-color1: white;\n",
       "                    --jp-layout-color2: #454545;\n",
       "                    background-color: #383838;\n",
       "                }\n",
       "                    \n",
       "                .geemap-dark .jupyter-button {\n",
       "                    --jp-layout-color3: #383838;\n",
       "                }\n",
       "                \n",
       "                .geemap-colab {\n",
       "                    background-color: var(--colab-primary-surface-color, white);\n",
       "                }\n",
       "                    \n",
       "                .geemap-colab .jupyter-button {\n",
       "                    --jp-layout-color3: var(--colab-primary-surface-color, white);\n",
       "                }\n",
       "            </style>\n",
       "            "
      ],
      "text/plain": [
       "<IPython.core.display.HTML object>"
      ]
     },
     "metadata": {},
     "output_type": "display_data"
    },
    {
     "data": {
      "application/vnd.jupyter.widget-view+json": {
       "model_id": "0b7aab1770854877830c1093ce27543c",
       "version_major": 2,
       "version_minor": 0
      },
      "text/plain": [
       "Map(center=[16.812037436738137, 100.30989048991965], controls=(WidgetControl(options=['position', 'transparent…"
      ]
     },
     "metadata": {},
     "output_type": "display_data"
    }
   ],
   "source": [
    "# จัดกลุ่มพิกเซลในภาพด้วยแบนด์เดียวกันที่ใช้สำหรับการ training \n",
    "result = image.select(bands).classify(trained)\n",
    "\n",
    "landcover = result\n",
    "\n",
    "# กำหนดสีที่จะใช้แสดงผล\n",
    "landcover_palette = [\n",
    "    '#009933', '#ffbb22', '#ffff4c', '#FFFF33','#FFCC00', '#ff0000', '#CC0000',\n",
    "    '#87cefa', '#6495ed', '#6600ff', '#00cf75','#006400' \n",
    "]\n",
    "\n",
    "# กำหนดรูปแบบและพารามิเตอร์ของแผนที่\n",
    "Map = geemap.Map(center=[16.812037436738137, 100.30989048991965], zoom=11)\n",
    "\n",
    "# เพิ่มชั้นข้อมูลแผนที่สำหรับ Landcover \n",
    "Map.add_layer(dataset.clip(Mueang), visualization, 'Land cover (ESA)')\n",
    "\n",
    "# เพิ่มชั้นข้อมูลแผนที่ผลลัพธ์จากการจัดกลุ่มพิกเซล\n",
    "Map.addLayer(landcover.clip(Mueang), {'min': 10, 'max': 100, 'palette': landcover_palette}, 'Land Cover')\n",
    "\n",
    "# เพิ่มการควบคุมชั้นข้อมูล\n",
    "Map.addLayerControl()\n",
    "\n",
    "# แสดงแผนที่\n",
    "Map"
   ]
  },
  {
   "cell_type": "markdown",
   "id": "d02210e4",
   "metadata": {},
   "source": [
    "### ฟังก์ชันการแสดงภาพผลลัพธ์"
   ]
  },
  {
   "cell_type": "code",
   "execution_count": null,
   "id": "46e9c453",
   "metadata": {},
   "outputs": [],
   "source": [
    "print('Change layer opacity:')\n",
    "cluster_layer = Map.layers[-1]\n",
    "cluster_layer.interact(opacity=(0, 1, 0.1))"
   ]
  },
  {
   "cell_type": "markdown",
   "id": "9f40986b",
   "metadata": {},
   "source": [
    "### ส่งออกผลการจำแนกประเภทข้อมูลแบบกำกับดูแล (Supervised classification)\n",
    "\n",
    "ส่งออกผลลัพธ์ไปยังคอมพิวเตอร์โดยตรง:"
   ]
  },
  {
   "cell_type": "code",
   "execution_count": null,
   "id": "12a3af02",
   "metadata": {},
   "outputs": [],
   "source": [
    "import os\n",
    "\n",
    "out_dir = os.path.join(os.path.expanduser('~'), 'Downloads')\n",
    "out_file = os.path.join(out_dir, 'landcover.tif')"
   ]
  },
  {
   "cell_type": "code",
   "execution_count": null,
   "id": "1d5a63f4",
   "metadata": {},
   "outputs": [],
   "source": [
    "geemap.ee_export_image(result, filename=out_file, scale=90)"
   ]
  },
  {
   "cell_type": "markdown",
   "id": "4151c5d7",
   "metadata": {},
   "source": [
    "ส่งออกผลลัพธ์ไปยัง Google Drive:"
   ]
  },
  {
   "cell_type": "code",
   "execution_count": null,
   "id": "869cbeaf",
   "metadata": {},
   "outputs": [],
   "source": [
    "geemap.ee_export_image_to_drive(\n",
    "    landcover, description='landcover', folder='export', scale=10,maxPixels=1e13        \n",
    ")"
   ]
  },
  {
   "cell_type": "code",
   "execution_count": null,
   "id": "e5cabe3e",
   "metadata": {},
   "outputs": [],
   "source": []
  }
 ],
 "metadata": {
  "kernelspec": {
   "display_name": "Python 3 (ipykernel)",
   "language": "python",
   "name": "python3"
  },
  "language_info": {
   "codemirror_mode": {
    "name": "ipython",
    "version": 3
   },
   "file_extension": ".py",
   "mimetype": "text/x-python",
   "name": "python",
   "nbconvert_exporter": "python",
   "pygments_lexer": "ipython3",
   "version": "3.9.12"
  }
 },
 "nbformat": 4,
 "nbformat_minor": 5
}
